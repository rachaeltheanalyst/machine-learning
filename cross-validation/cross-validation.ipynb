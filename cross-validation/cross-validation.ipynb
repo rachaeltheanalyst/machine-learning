{
 "cells": [
  {
   "cell_type": "markdown",
   "id": "6f6444dd",
   "metadata": {
    "id": "6f6444dd"
   },
   "source": [
    "# Cross Validation\n",
    "Rachael An "
   ]
  },
  {
   "cell_type": "markdown",
   "id": "e1e76803",
   "metadata": {},
   "source": [
    "# Implement the following steps:\n",
    "\n",
    "1. Fit models and obtain predictions\n",
    "2. Perform crossvalidation"
   ]
  },
  {
   "cell_type": "markdown",
   "id": "558f9417",
   "metadata": {
    "id": "558f9417"
   },
   "source": [
    "# Import libraries and data"
   ]
  },
  {
   "cell_type": "code",
   "execution_count": 9,
   "id": "8b655721",
   "metadata": {
    "id": "8b655721"
   },
   "outputs": [],
   "source": [
    "import pandas as pd\n",
    "import matplotlib.pyplot as plt\n",
    "import numpy as np \n",
    "\n",
    "# Import all additional libraries/functions here:\n",
    "from sklearn.tree import DecisionTreeRegressor\n",
    "from sklearn.model_selection import cross_val_score, KFold\n",
    "from sklearn.metrics import make_scorer\n",
    "from sklearn.neighbors import KNeighborsRegressor\n",
    "from sklearn.linear_model import LinearRegression"
   ]
  },
  {
   "cell_type": "code",
   "execution_count": 2,
   "id": "f11c09ae",
   "metadata": {},
   "outputs": [],
   "source": [
    "# Load test training, test, and sample_submission CSV's as pandas data frames here\n",
    "# Set the row indices to be the \"ID\" variable\n",
    "training = pd.read_csv(\"data/train.csv\", index_col = \"Id\")\n",
    "test = pd.read_csv(\"data/test.csv\", index_col = \"Id\")\n",
    "submission = pd.read_csv(\"data/sample_submission.csv\", index_col = \"Id\")"
   ]
  },
  {
   "cell_type": "markdown",
   "id": "3a98b0a0",
   "metadata": {},
   "source": [
    "# Variables and model considered"
   ]
  },
  {
   "cell_type": "markdown",
   "id": "af0443a2",
   "metadata": {
    "id": "9dbd683b"
   },
   "source": [
    "To keep things simple, we'll\n",
    "1. Once again consider the Kaggle house prices data\n",
    "1. Only consider 5 numerical predictor variables aka features\n",
    "\n",
    "Let's look at our data! "
   ]
  },
  {
   "cell_type": "code",
   "execution_count": 3,
   "id": "4af45e73",
   "metadata": {},
   "outputs": [
    {
     "name": "stdout",
     "output_type": "stream",
     "text": [
      "<class 'pandas.core.frame.DataFrame'>\n",
      "Int64Index: 1460 entries, 1 to 1460\n",
      "Data columns (total 6 columns):\n",
      " #   Column        Non-Null Count  Dtype\n",
      "---  ------        --------------  -----\n",
      " 0   GrLivArea     1460 non-null   int64\n",
      " 1   YearBuilt     1460 non-null   int64\n",
      " 2   BedroomAbvGr  1460 non-null   int64\n",
      " 3   HalfBath      1460 non-null   int64\n",
      " 4   LotArea       1460 non-null   int64\n",
      " 5   SalePrice     1460 non-null   int64\n",
      "dtypes: int64(6)\n",
      "memory usage: 79.8 KB\n"
     ]
    }
   ],
   "source": [
    "training.info()"
   ]
  },
  {
   "cell_type": "code",
   "execution_count": 4,
   "id": "7843f23e",
   "metadata": {},
   "outputs": [
    {
     "data": {
      "text/html": [
       "<div>\n",
       "<style scoped>\n",
       "    .dataframe tbody tr th:only-of-type {\n",
       "        vertical-align: middle;\n",
       "    }\n",
       "\n",
       "    .dataframe tbody tr th {\n",
       "        vertical-align: top;\n",
       "    }\n",
       "\n",
       "    .dataframe thead th {\n",
       "        text-align: right;\n",
       "    }\n",
       "</style>\n",
       "<table border=\"1\" class=\"dataframe\">\n",
       "  <thead>\n",
       "    <tr style=\"text-align: right;\">\n",
       "      <th></th>\n",
       "      <th>GrLivArea</th>\n",
       "      <th>YearBuilt</th>\n",
       "      <th>BedroomAbvGr</th>\n",
       "      <th>HalfBath</th>\n",
       "      <th>LotArea</th>\n",
       "      <th>SalePrice</th>\n",
       "    </tr>\n",
       "    <tr>\n",
       "      <th>Id</th>\n",
       "      <th></th>\n",
       "      <th></th>\n",
       "      <th></th>\n",
       "      <th></th>\n",
       "      <th></th>\n",
       "      <th></th>\n",
       "    </tr>\n",
       "  </thead>\n",
       "  <tbody>\n",
       "    <tr>\n",
       "      <th>1</th>\n",
       "      <td>1710</td>\n",
       "      <td>2003</td>\n",
       "      <td>3</td>\n",
       "      <td>1</td>\n",
       "      <td>8450</td>\n",
       "      <td>208500</td>\n",
       "    </tr>\n",
       "    <tr>\n",
       "      <th>2</th>\n",
       "      <td>1262</td>\n",
       "      <td>1976</td>\n",
       "      <td>3</td>\n",
       "      <td>0</td>\n",
       "      <td>9600</td>\n",
       "      <td>181500</td>\n",
       "    </tr>\n",
       "    <tr>\n",
       "      <th>3</th>\n",
       "      <td>1786</td>\n",
       "      <td>2001</td>\n",
       "      <td>3</td>\n",
       "      <td>1</td>\n",
       "      <td>11250</td>\n",
       "      <td>223500</td>\n",
       "    </tr>\n",
       "    <tr>\n",
       "      <th>4</th>\n",
       "      <td>1717</td>\n",
       "      <td>1915</td>\n",
       "      <td>3</td>\n",
       "      <td>0</td>\n",
       "      <td>9550</td>\n",
       "      <td>140000</td>\n",
       "    </tr>\n",
       "    <tr>\n",
       "      <th>5</th>\n",
       "      <td>2198</td>\n",
       "      <td>2000</td>\n",
       "      <td>4</td>\n",
       "      <td>1</td>\n",
       "      <td>14260</td>\n",
       "      <td>250000</td>\n",
       "    </tr>\n",
       "  </tbody>\n",
       "</table>\n",
       "</div>"
      ],
      "text/plain": [
       "    GrLivArea  YearBuilt  BedroomAbvGr  HalfBath  LotArea  SalePrice\n",
       "Id                                                                  \n",
       "1        1710       2003             3         1     8450     208500\n",
       "2        1262       1976             3         0     9600     181500\n",
       "3        1786       2001             3         1    11250     223500\n",
       "4        1717       1915             3         0     9550     140000\n",
       "5        2198       2000             4         1    14260     250000"
      ]
     },
     "execution_count": 4,
     "metadata": {},
     "output_type": "execute_result"
    }
   ],
   "source": [
    "training.head()"
   ]
  },
  {
   "cell_type": "markdown",
   "id": "615a45f1",
   "metadata": {},
   "source": [
    "# Phase 1.a): MVP\n",
    "\n",
    "- Fit a CART model to `SalePrice` using:\n",
    "    - Using the five predictor values on all the training data\n",
    "    - Set the complexity hyperparameter $\\alpha$ to 0 i.e. the most complex tree\n",
    "    - Do not change default values for all other parameters of the tree\n",
    "    - There is a component to fitting CART this is actually random. Fix this by setting `random_state` to 76\n",
    "- Make a submission to Kaggle\n",
    "- Take screenshot of the score"
   ]
  },
  {
   "cell_type": "code",
   "execution_count": 3,
   "id": "06cf5dc0",
   "metadata": {},
   "outputs": [],
   "source": [
    "# Create appropriate arrays\n",
    "X_train = training[[\"GrLivArea\", \"YearBuilt\", \"BedroomAbvGr\", \"HalfBath\", \"LotArea\"]].values\n",
    "y_train = training[[\"SalePrice\"]].values\n",
    "X_test = test[[\"GrLivArea\", \"YearBuilt\", \"BedroomAbvGr\", \"HalfBath\", \"LotArea\"]].values\n",
    "\n",
    "# Instantiate model with appropriate hyperparameters\n",
    "tree = DecisionTreeRegressor(random_state = 76, ccp_alpha = 0).fit(X_train, y_train)\n",
    "\n",
    "# Fit model to training data\n",
    "SalePrice_hat = tree.predict(X_test)"
   ]
  },
  {
   "cell_type": "code",
   "execution_count": 4,
   "id": "d1d573fe",
   "metadata": {},
   "outputs": [],
   "source": [
    "# Get predictions for test set\n",
    "test['SalePrice_hat'] = SalePrice_hat"
   ]
  },
  {
   "cell_type": "code",
   "execution_count": 5,
   "id": "5f74459a",
   "metadata": {},
   "outputs": [
    {
     "name": "stdout",
     "output_type": "stream",
     "text": [
      "      GrLivArea  YearBuilt  BedroomAbvGr  HalfBath  LotArea  SalePrice_hat\n",
      "Id                                                                        \n",
      "1461        896       1961             2         0    11622        97000.0\n",
      "1462       1329       1958             3         1    14267       137500.0\n",
      "1463       1629       1997             3         1    13830       181000.0\n",
      "1464       1604       1998             3         1     9978       176500.0\n",
      "1465       1280       1992             2         0     5005       180000.0\n",
      "...         ...        ...           ...       ...      ...            ...\n",
      "2915       1092       1970             3         1     1936        84500.0\n",
      "2916       1092       1970             3         1     1894        81000.0\n",
      "2917       1224       1960             4         0    20000       157900.0\n",
      "2918        970       1992             3         0    10441       145000.0\n",
      "2919       2000       1993             3         1     9627       237000.0\n",
      "\n",
      "[1459 rows x 6 columns]\n"
     ]
    }
   ],
   "source": [
    "print(test)"
   ]
  },
  {
   "cell_type": "code",
   "execution_count": 6,
   "id": "440157df",
   "metadata": {},
   "outputs": [
    {
     "data": {
      "text/html": [
       "<div>\n",
       "<style scoped>\n",
       "    .dataframe tbody tr th:only-of-type {\n",
       "        vertical-align: middle;\n",
       "    }\n",
       "\n",
       "    .dataframe tbody tr th {\n",
       "        vertical-align: top;\n",
       "    }\n",
       "\n",
       "    .dataframe thead th {\n",
       "        text-align: right;\n",
       "    }\n",
       "</style>\n",
       "<table border=\"1\" class=\"dataframe\">\n",
       "  <thead>\n",
       "    <tr style=\"text-align: right;\">\n",
       "      <th></th>\n",
       "      <th>SalePrice</th>\n",
       "    </tr>\n",
       "    <tr>\n",
       "      <th>Id</th>\n",
       "      <th></th>\n",
       "    </tr>\n",
       "  </thead>\n",
       "  <tbody>\n",
       "    <tr>\n",
       "      <th>1461</th>\n",
       "      <td>97000.0</td>\n",
       "    </tr>\n",
       "    <tr>\n",
       "      <th>1462</th>\n",
       "      <td>137500.0</td>\n",
       "    </tr>\n",
       "    <tr>\n",
       "      <th>1463</th>\n",
       "      <td>181000.0</td>\n",
       "    </tr>\n",
       "    <tr>\n",
       "      <th>1464</th>\n",
       "      <td>176500.0</td>\n",
       "    </tr>\n",
       "    <tr>\n",
       "      <th>1465</th>\n",
       "      <td>180000.0</td>\n",
       "    </tr>\n",
       "    <tr>\n",
       "      <th>...</th>\n",
       "      <td>...</td>\n",
       "    </tr>\n",
       "    <tr>\n",
       "      <th>2915</th>\n",
       "      <td>84500.0</td>\n",
       "    </tr>\n",
       "    <tr>\n",
       "      <th>2916</th>\n",
       "      <td>81000.0</td>\n",
       "    </tr>\n",
       "    <tr>\n",
       "      <th>2917</th>\n",
       "      <td>157900.0</td>\n",
       "    </tr>\n",
       "    <tr>\n",
       "      <th>2918</th>\n",
       "      <td>145000.0</td>\n",
       "    </tr>\n",
       "    <tr>\n",
       "      <th>2919</th>\n",
       "      <td>237000.0</td>\n",
       "    </tr>\n",
       "  </tbody>\n",
       "</table>\n",
       "<p>1459 rows × 1 columns</p>\n",
       "</div>"
      ],
      "text/plain": [
       "      SalePrice\n",
       "Id             \n",
       "1461    97000.0\n",
       "1462   137500.0\n",
       "1463   181000.0\n",
       "1464   176500.0\n",
       "1465   180000.0\n",
       "...         ...\n",
       "2915    84500.0\n",
       "2916    81000.0\n",
       "2917   157900.0\n",
       "2918   145000.0\n",
       "2919   237000.0\n",
       "\n",
       "[1459 rows x 1 columns]"
      ]
     },
     "execution_count": 6,
     "metadata": {},
     "output_type": "execute_result"
    }
   ],
   "source": [
    "# Write to csv\n",
    "submission = pd.DataFrame(test.index,\n",
    "                          test['SalePrice_hat'])\n",
    "\n",
    "submission.set_index(test.index, inplace = True)\n",
    "\n",
    "submission['SalePrice'] = test['SalePrice_hat']\n",
    "\n",
    "del submission['Id']\n",
    "\n",
    "submission.to_csv('data/submission_CART.csv')\n",
    "\n",
    "submission"
   ]
  },
  {
   "cell_type": "markdown",
   "id": "28577395",
   "metadata": {},
   "source": [
    "![screenshot of kaggle score](images/score_CART.png)"
   ]
  },
  {
   "cell_type": "markdown",
   "id": "9f3aa1b9",
   "metadata": {},
   "source": [
    "# Phase 1.b): MVP\n",
    "\n",
    "- Use $k=10$ fold crossvalidation with a seed value of 76 to compute the local estimate of the RMSLE Kaggle score you computed in the previous section"
   ]
  },
  {
   "cell_type": "code",
   "execution_count": 7,
   "id": "d5e8d71d",
   "metadata": {},
   "outputs": [
    {
     "name": "stdout",
     "output_type": "stream",
     "text": [
      "0.24724101132095272\n"
     ]
    }
   ],
   "source": [
    "kf = KFold(n_splits=10, shuffle=True, random_state=76)\n",
    "\n",
    "cv_results = cross_val_score(tree, X_train, y_train, cv=kf, scoring = 'neg_mean_squared_log_error')\n",
    "\n",
    "rmsle_scores = np.sqrt(-cv_results)\n",
    "\n",
    "rmsle_estimate = np.mean(rmsle_scores)\n",
    "\n",
    "print(rmsle_estimate)"
   ]
  },
  {
   "cell_type": "markdown",
   "id": "8e3d28d9",
   "metadata": {},
   "source": [
    "# Phase 2.a): Due Dilligence\n",
    "\n",
    "- Fit a k nearest neighbor model to `SalePrice` using:\n",
    "    - Using the five predictor values on all the training data\n",
    "    - Set the hyperparameter $k$ to 6 i.e. for each point in the test data, your prediction is the mean of the 6 nearest neighboring points in predictor space. Note $k$ sets the complexity of the model, where like $\\alpha$ in CART:\n",
    "        - Higher values of $k$ correspond to simpler models\n",
    "        - Lower values of $k$ correspond to more complex models\n",
    "- Make a submission to Kaggle\n",
    "- Take screenshot of the score"
   ]
  },
  {
   "cell_type": "code",
   "execution_count": 10,
   "id": "006861cc",
   "metadata": {},
   "outputs": [
    {
     "name": "stdout",
     "output_type": "stream",
     "text": [
      "      GrLivArea  YearBuilt  BedroomAbvGr  HalfBath  LotArea  SalePrice_hat  \\\n",
      "Id                                                                           \n",
      "1461        896       1961             2         0    11622        97000.0   \n",
      "1462       1329       1958             3         1    14267       137500.0   \n",
      "1463       1629       1997             3         1    13830       181000.0   \n",
      "1464       1604       1998             3         1     9978       176500.0   \n",
      "1465       1280       1992             2         0     5005       180000.0   \n",
      "...         ...        ...           ...       ...      ...            ...   \n",
      "2915       1092       1970             3         1     1936        84500.0   \n",
      "2916       1092       1970             3         1     1894        81000.0   \n",
      "2917       1224       1960             4         0    20000       157900.0   \n",
      "2918        970       1992             3         0    10441       145000.0   \n",
      "2919       2000       1993             3         1     9627       237000.0   \n",
      "\n",
      "      SalePrice_hat_knn  \n",
      "Id                       \n",
      "1461      121533.333333  \n",
      "1462      178800.000000  \n",
      "1463      205650.333333  \n",
      "1464      205150.000000  \n",
      "1465      164783.333333  \n",
      "...                 ...  \n",
      "2915       94416.666667  \n",
      "2916       91416.666667  \n",
      "2917      208245.000000  \n",
      "2918      129708.333333  \n",
      "2919      195333.333333  \n",
      "\n",
      "[1459 rows x 7 columns]\n"
     ]
    }
   ],
   "source": [
    "# Reuse X_train, y_train, X_test\n",
    "\n",
    "# Instantiate model with appropriate hyperparameters\n",
    "knn = KNeighborsRegressor(n_neighbors=6)\n",
    "\n",
    "# Fit model to training data\n",
    "knn.fit(X_train, y_train)\n",
    "\n",
    "# Get predictions for test set\n",
    "predictions = knn.predict(X_test)\n",
    "\n",
    "#print(predictions)\n",
    "\n",
    "test['SalePrice_hat_knn'] = predictions\n",
    "\n",
    "print(test)"
   ]
  },
  {
   "cell_type": "code",
   "execution_count": 11,
   "id": "08970622",
   "metadata": {},
   "outputs": [
    {
     "data": {
      "text/html": [
       "<div>\n",
       "<style scoped>\n",
       "    .dataframe tbody tr th:only-of-type {\n",
       "        vertical-align: middle;\n",
       "    }\n",
       "\n",
       "    .dataframe tbody tr th {\n",
       "        vertical-align: top;\n",
       "    }\n",
       "\n",
       "    .dataframe thead th {\n",
       "        text-align: right;\n",
       "    }\n",
       "</style>\n",
       "<table border=\"1\" class=\"dataframe\">\n",
       "  <thead>\n",
       "    <tr style=\"text-align: right;\">\n",
       "      <th></th>\n",
       "      <th>SalePrice</th>\n",
       "    </tr>\n",
       "    <tr>\n",
       "      <th>Id</th>\n",
       "      <th></th>\n",
       "    </tr>\n",
       "  </thead>\n",
       "  <tbody>\n",
       "    <tr>\n",
       "      <th>1461</th>\n",
       "      <td>121533.333333</td>\n",
       "    </tr>\n",
       "    <tr>\n",
       "      <th>1462</th>\n",
       "      <td>178800.000000</td>\n",
       "    </tr>\n",
       "    <tr>\n",
       "      <th>1463</th>\n",
       "      <td>205650.333333</td>\n",
       "    </tr>\n",
       "    <tr>\n",
       "      <th>1464</th>\n",
       "      <td>205150.000000</td>\n",
       "    </tr>\n",
       "    <tr>\n",
       "      <th>1465</th>\n",
       "      <td>164783.333333</td>\n",
       "    </tr>\n",
       "    <tr>\n",
       "      <th>...</th>\n",
       "      <td>...</td>\n",
       "    </tr>\n",
       "    <tr>\n",
       "      <th>2915</th>\n",
       "      <td>94416.666667</td>\n",
       "    </tr>\n",
       "    <tr>\n",
       "      <th>2916</th>\n",
       "      <td>91416.666667</td>\n",
       "    </tr>\n",
       "    <tr>\n",
       "      <th>2917</th>\n",
       "      <td>208245.000000</td>\n",
       "    </tr>\n",
       "    <tr>\n",
       "      <th>2918</th>\n",
       "      <td>129708.333333</td>\n",
       "    </tr>\n",
       "    <tr>\n",
       "      <th>2919</th>\n",
       "      <td>195333.333333</td>\n",
       "    </tr>\n",
       "  </tbody>\n",
       "</table>\n",
       "<p>1459 rows × 1 columns</p>\n",
       "</div>"
      ],
      "text/plain": [
       "          SalePrice\n",
       "Id                 \n",
       "1461  121533.333333\n",
       "1462  178800.000000\n",
       "1463  205650.333333\n",
       "1464  205150.000000\n",
       "1465  164783.333333\n",
       "...             ...\n",
       "2915   94416.666667\n",
       "2916   91416.666667\n",
       "2917  208245.000000\n",
       "2918  129708.333333\n",
       "2919  195333.333333\n",
       "\n",
       "[1459 rows x 1 columns]"
      ]
     },
     "execution_count": 11,
     "metadata": {},
     "output_type": "execute_result"
    }
   ],
   "source": [
    "# Write to csv\n",
    "submission_knn = pd.DataFrame(test.index,\n",
    "                          test['SalePrice_hat_knn'])\n",
    "\n",
    "submission_knn.set_index(test.index, inplace = True)\n",
    "\n",
    "submission_knn['SalePrice'] = test['SalePrice_hat_knn']\n",
    "\n",
    "del submission_knn['Id']\n",
    "\n",
    "submission_knn.to_csv('data/submission_knn.csv')\n",
    "\n",
    "submission_knn"
   ]
  },
  {
   "cell_type": "markdown",
   "id": "2ef20e39",
   "metadata": {},
   "source": [
    "![screenshot of kaggle score](images/scoreknn.png)"
   ]
  },
  {
   "cell_type": "markdown",
   "id": "53abf969",
   "metadata": {},
   "source": [
    "# Phase 2.b): Due Dilligence\n",
    "\n",
    "- Using the same $k=10$ fold crossvalidation object you created earlier, compute the local estimate of the RMSLE Kaggle score you computed in the previous section. We are using the same crossvalidation object to hold the variation induced by fold creation constant. "
   ]
  },
  {
   "cell_type": "code",
   "execution_count": 12,
   "id": "cc63b59d",
   "metadata": {},
   "outputs": [
    {
     "name": "stdout",
     "output_type": "stream",
     "text": [
      "0.2719269475562517\n"
     ]
    }
   ],
   "source": [
    "# Do not recreate kf, use same one\n",
    "cv_results_knn = cross_val_score(knn, X_train, y_train, cv=kf, scoring = 'neg_mean_squared_log_error')\n",
    "\n",
    "rmsle_scores_knn = np.sqrt(-cv_results_knn)\n",
    "\n",
    "rmsle_estimate_knn = np.mean(rmsle_scores_knn)\n",
    "\n",
    "print(rmsle_estimate_knn)"
   ]
  },
  {
   "cell_type": "markdown",
   "id": "45e9660e",
   "metadata": {},
   "source": [
    "# Phase 3.a)\n",
    "- Fit a multiple linear regression model `SalePrice` using:\n",
    "    - Using the five predictor values on all the training data\n",
    "    - For multiple linear regression there is no complexity hyperparameter that sets balance between complex and simple models. We'll see that LASSO and Ridge Regression is a variant to multiple regression that does allow us to set that balance\n",
    "- Make a submission to Kaggle\n",
    "- Take screenshot of the score"
   ]
  },
  {
   "cell_type": "code",
   "execution_count": 14,
   "id": "7bdae9a7",
   "metadata": {},
   "outputs": [
    {
     "name": "stdout",
     "output_type": "stream",
     "text": [
      "      GrLivArea  YearBuilt  BedroomAbvGr  HalfBath  LotArea  SalePrice_hat  \\\n",
      "Id                                                                           \n",
      "1461        896       1961             2         0    11622          81000   \n",
      "1462       1329       1958             3         1    14267         112000   \n",
      "1463       1629       1997             3         1    13830         196500   \n",
      "1464       1604       1998             3         1     9978         181000   \n",
      "1465       1280       1992             2         0     5005         189000   \n",
      "...         ...        ...           ...       ...      ...            ...   \n",
      "2915       1092       1970             3         1     1936          75000   \n",
      "2916       1092       1970             3         1     1894          75000   \n",
      "2917       1224       1960             4         0    20000         135000   \n",
      "2918        970       1992             3         0    10441          93500   \n",
      "2919       2000       1993             3         1     9627         215000   \n",
      "\n",
      "      SalePrice_hat_knn  SalePrice_hat_reg  \n",
      "Id                                          \n",
      "1461              84000      122375.398776  \n",
      "1462             137500      139953.559662  \n",
      "1463             140000      212024.581621  \n",
      "1464             167000      207554.793803  \n",
      "1465              79000      191466.047335  \n",
      "...                 ...                ...  \n",
      "2915             106000      116994.312205  \n",
      "2916              75000      116964.976553  \n",
      "2917             141000      128243.275487  \n",
      "2918             115000      143066.677904  \n",
      "2919             129500      246338.843442  \n",
      "\n",
      "[1459 rows x 8 columns]\n"
     ]
    }
   ],
   "source": [
    "# No need to redefine X_train, y_train, X_test. We can reuse them\n",
    "\n",
    "# Instantiate model with appropriate hyperparameters\n",
    "reg = LinearRegression()\n",
    "reg.fit(X_train, y_train)\n",
    "\n",
    "# Fit model to training data\n",
    "predictions_reg = reg.predict(X_test)\n",
    "\n",
    "# Get predictions for test set\n",
    "test['SalePrice_hat_reg'] = predictions_reg\n",
    "\n",
    "print(test)"
   ]
  },
  {
   "cell_type": "code",
   "execution_count": 15,
   "id": "8f39f347",
   "metadata": {},
   "outputs": [
    {
     "data": {
      "text/html": [
       "<div>\n",
       "<style scoped>\n",
       "    .dataframe tbody tr th:only-of-type {\n",
       "        vertical-align: middle;\n",
       "    }\n",
       "\n",
       "    .dataframe tbody tr th {\n",
       "        vertical-align: top;\n",
       "    }\n",
       "\n",
       "    .dataframe thead th {\n",
       "        text-align: right;\n",
       "    }\n",
       "</style>\n",
       "<table border=\"1\" class=\"dataframe\">\n",
       "  <thead>\n",
       "    <tr style=\"text-align: right;\">\n",
       "      <th></th>\n",
       "      <th>SalePrice</th>\n",
       "    </tr>\n",
       "    <tr>\n",
       "      <th>Id</th>\n",
       "      <th></th>\n",
       "    </tr>\n",
       "  </thead>\n",
       "  <tbody>\n",
       "    <tr>\n",
       "      <th>1461</th>\n",
       "      <td>122375.398776</td>\n",
       "    </tr>\n",
       "    <tr>\n",
       "      <th>1462</th>\n",
       "      <td>139953.559662</td>\n",
       "    </tr>\n",
       "    <tr>\n",
       "      <th>1463</th>\n",
       "      <td>212024.581621</td>\n",
       "    </tr>\n",
       "    <tr>\n",
       "      <th>1464</th>\n",
       "      <td>207554.793803</td>\n",
       "    </tr>\n",
       "    <tr>\n",
       "      <th>1465</th>\n",
       "      <td>191466.047335</td>\n",
       "    </tr>\n",
       "    <tr>\n",
       "      <th>...</th>\n",
       "      <td>...</td>\n",
       "    </tr>\n",
       "    <tr>\n",
       "      <th>2915</th>\n",
       "      <td>116994.312205</td>\n",
       "    </tr>\n",
       "    <tr>\n",
       "      <th>2916</th>\n",
       "      <td>116964.976553</td>\n",
       "    </tr>\n",
       "    <tr>\n",
       "      <th>2917</th>\n",
       "      <td>128243.275487</td>\n",
       "    </tr>\n",
       "    <tr>\n",
       "      <th>2918</th>\n",
       "      <td>143066.677904</td>\n",
       "    </tr>\n",
       "    <tr>\n",
       "      <th>2919</th>\n",
       "      <td>246338.843442</td>\n",
       "    </tr>\n",
       "  </tbody>\n",
       "</table>\n",
       "<p>1459 rows × 1 columns</p>\n",
       "</div>"
      ],
      "text/plain": [
       "          SalePrice\n",
       "Id                 \n",
       "1461  122375.398776\n",
       "1462  139953.559662\n",
       "1463  212024.581621\n",
       "1464  207554.793803\n",
       "1465  191466.047335\n",
       "...             ...\n",
       "2915  116994.312205\n",
       "2916  116964.976553\n",
       "2917  128243.275487\n",
       "2918  143066.677904\n",
       "2919  246338.843442\n",
       "\n",
       "[1459 rows x 1 columns]"
      ]
     },
     "execution_count": 15,
     "metadata": {},
     "output_type": "execute_result"
    }
   ],
   "source": [
    "# Write to csv\n",
    "submission_reg = pd.DataFrame(test.index,\n",
    "                              test['SalePrice_hat_reg'])\n",
    "\n",
    "submission_reg.set_index(test.index, inplace = True)\n",
    "\n",
    "submission_reg['SalePrice'] = test['SalePrice_hat_reg']\n",
    "\n",
    "del submission_reg['Id']\n",
    "\n",
    "submission_reg.to_csv('data/submission_reg.csv')\n",
    "\n",
    "submission_reg"
   ]
  },
  {
   "cell_type": "markdown",
   "id": "21f08d82",
   "metadata": {},
   "source": [
    "![screenshot of kaggle score](images/score_regression.png)"
   ]
  },
  {
   "cell_type": "markdown",
   "id": "39bb08e9",
   "metadata": {},
   "source": [
    "# Phase 3.b)\n",
    "\n",
    "- Using the same $k=10$ fold crossvalidation object you created earlier, compute the local estimate of the RMSLE Kaggle score you computed in the previous section. We are using the same crossvalidation object to hold the variation induced by fold creation constant. "
   ]
  },
  {
   "cell_type": "code",
   "execution_count": 16,
   "id": "9845791c",
   "metadata": {},
   "outputs": [
    {
     "name": "stdout",
     "output_type": "stream",
     "text": [
      "0.21768383818382758\n"
     ]
    }
   ],
   "source": [
    "# Use the same recreate kf\n",
    "cv_results_reg = cross_val_score(reg, X_train, y_train, cv=kf, scoring = 'neg_mean_squared_log_error')\n",
    "\n",
    "rmsle_scores_reg = np.sqrt(-cv_results_reg)\n",
    "\n",
    "rmsle_estimate_reg = np.mean(rmsle_scores_reg)\n",
    "\n",
    "print(rmsle_estimate_reg)"
   ]
  },
  {
   "cell_type": "markdown",
   "id": "d819f239",
   "metadata": {},
   "source": [
    "# Phase 4: Point of Diminished Returns\n",
    "\n",
    "Fill in this table with all values of the RMSLE's you computed in this problem set with 5 digits decimal precision\n",
    "\n",
    "| RMSLE               | CART with alpha=0 | kNN with k = 6 | Multiple Regression |\n",
    "|---------------------|-------------------|----------------|---------------------|\n",
    "| Score on Kaggle     | 0.26612           | 0.29258        | 0.22276             |\n",
    "| k=10 CV estimate    | 0.24724           | 0.27193        | 0.21768             |\n",
    "| Absolute Difference | 0.01888           | 0.02065        | 0.00508             |\n"
   ]
  },
  {
   "cell_type": "markdown",
   "id": "6d595525",
   "metadata": {},
   "source": [
    "# Phase 5: Reach for the Stars\n",
    "\n",
    "- Using the same $k=10$ fold crossvalidation object you created earlier, produce a side-by-side boxplot visualizing\n",
    "    - On the x-axis: For each of the three models used\n",
    "    - On the y-axis: The 10 estimates of RMSLE corresponding to each of the $k$ = 10 folds. i.e. don't average them\n",
    "- Use a dictionary of our three called `models` and then use a for loop to loop through each model "
   ]
  },
  {
   "cell_type": "code",
   "execution_count": 13,
   "id": "18650ebd",
   "metadata": {},
   "outputs": [
    {
     "data": {
      "image/png": "[encoded data removed]",
      "text/plain": [
       "<Figure size 640x480 with 1 Axes>"
      ]
     },
     "metadata": {},
     "output_type": "display_data"
    }
   ],
   "source": [
    "models = {\"Linear Regression\": LinearRegression(), \"KNN\": KNeighborsRegressor(n_neighbors=6),\n",
    "          \"Decision Tree\": DecisionTreeRegressor(random_state = 76, ccp_alpha = 0)}\n",
    "\n",
    "results = []\n",
    "\n",
    "for model in models.values():\n",
    "    cv_results = cross_val_score(model, X_train, y_train, cv=kf, scoring = 'neg_mean_squared_log_error')\n",
    "    rmsle_scores = np.sqrt(-cv_results)\n",
    "    results.append(rmsle_scores)\n",
    "\n",
    "plt.boxplot(results, labels=models.keys())\n",
    "plt.show()"
   ]
  }
 ],
 "metadata": {
  "colab": {
   "include_colab_link": true,
   "provenance": []
  },
  "kernelspec": {
   "display_name": "Python 3 (ipykernel)",
   "language": "python",
   "name": "python3"
  },
  "language_info": {
   "codemirror_mode": {
    "name": "ipython",
    "version": 3
   },
   "file_extension": ".py",
   "mimetype": "text/x-python",
   "name": "python",
   "nbconvert_exporter": "python",
   "pygments_lexer": "ipython3",
   "version": "3.11.4"
  }
 },
 "nbformat": 4,
 "nbformat_minor": 5
}
