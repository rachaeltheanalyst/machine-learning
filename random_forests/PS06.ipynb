{
 "cells": [
  {
   "cell_type": "markdown",
   "id": "6f6444dd",
   "metadata": {
    "id": "6f6444dd"
   },
   "source": [
    "# Problem Set 06\n",
    "1. Name: Rachael An\n",
    "1. Honor Code: \n",
    "    - Indicate anybody you collaborated with:\n",
    "    - Indicate that you did not directly copy anybody else's code: I did not directly copy anybody else's code.\n",
    "    - You may use ChatGPT for this problem set."
   ]
  },
  {
   "cell_type": "markdown",
   "id": "e1e76803",
   "metadata": {},
   "source": [
    "# Instructions\n",
    "\n",
    "This problem set you will:\n",
    "\n",
    "- Fit a Random Forest model\n",
    "- Identify the optimal value of the complexity hyperparameter\n",
    "- Visulize the results\n",
    "\n",
    "## Workflow and hints\n",
    "\n",
    "1.  \"Run all\" cells in this jupyter notebook often to ensure reproducibility for all users. \n",
    "1.  On Moodle, submit a `.zip` compressed/archived file of this **entire** ~~RStudio~~ project folder. We are doing this to ensure the graders can reproduce your work.\n",
    "\n",
    "\n",
    "## Evaluation criteria\n",
    "\n",
    "Grading will be done on a progressive scale i.e. to get full credit for Phase X, you need to have completed all the steps in Phase 1 through X-1\n",
    "\n",
    "1.  Phase 1 Minimum Viable Product (9/10)\n",
    "    1.  Did you complete honor code section?\n",
    "    2.  Do **all** code cells in your Jupyter Notebook run? Can anybody replicate/reproduce your results?\n",
    "2.  Phase 2 (9.5/10)\n",
    "4.  Phase 3 Reach for the stars (10/10) "
   ]
  },
  {
   "cell_type": "markdown",
   "id": "558f9417",
   "metadata": {
    "id": "558f9417"
   },
   "source": [
    "# Import libraries and data"
   ]
  },
  {
   "cell_type": "code",
   "execution_count": 1,
   "id": "8b655721",
   "metadata": {
    "id": "8b655721"
   },
   "outputs": [],
   "source": [
    "import pandas as pd\n",
    "import numpy as np\n",
    "import matplotlib.pyplot as plt\n",
    "\n",
    "# Import all additional libraries/functions here. Just because \n",
    "# one library/function is imported here doesn't mean you have\n",
    "# to use it. \n",
    "from sklearn.ensemble import RandomForestRegressor\n",
    "from sklearn.model_selection import KFold\n",
    "from sklearn.model_selection import cross_val_score\n",
    "from sklearn.model_selection import GridSearchCV\n",
    "from sklearn.metrics import make_scorer"
   ]
  },
  {
   "cell_type": "code",
   "execution_count": 2,
   "id": "f11c09ae",
   "metadata": {},
   "outputs": [],
   "source": [
    "# Load test training, test, and sample_submission CSV's as pandas data frames here\n",
    "# Set the row indices to be the \"ID\" variable\n",
    "training = pd.read_csv(\"data/train.csv\", index_col = \"Id\")\n",
    "test = pd.read_csv(\"data/test.csv\", index_col = \"Id\")\n",
    "submission = pd.read_csv(\"data/sample_submission.csv\", index_col = \"Id\")"
   ]
  },
  {
   "cell_type": "markdown",
   "id": "3a98b0a0",
   "metadata": {},
   "source": [
    "# Variables and model considered"
   ]
  },
  {
   "cell_type": "markdown",
   "id": "af0443a2",
   "metadata": {
    "id": "9dbd683b"
   },
   "source": [
    "We'll only consider the following numerical variables: \n",
    "    \n",
    "   "
   ]
  },
  {
   "cell_type": "code",
   "execution_count": 3,
   "id": "5c4f08c5",
   "metadata": {},
   "outputs": [],
   "source": [
    "features = ['MSSubClass', 'LotFrontage', 'LotArea', 'OverallQual', 'OverallCond', \n",
    "            'YearBuilt', 'YearRemodAdd', 'MasVnrArea', 'BsmtFinSF1', 'BsmtFinSF2', \n",
    "            'BsmtUnfSF', 'TotalBsmtSF', 'FirstFlrSF', 'SecondFlrSF', 'LowQualFinSF', \n",
    "            'GrLivArea', 'BsmtFullBath', 'BsmtHalfBath', 'FullBath', 'HalfBath', \n",
    "            'BedroomAbvGr', 'KitchenAbvGr', 'TotRmsAbvGrd', 'Fireplaces', \n",
    "            'GarageYrBlt', 'GarageCars', 'GarageArea', 'WoodDeckSF', 'OpenPorchSF', \n",
    "            'EnclosedPorch', 'ThirdSsnPorch', 'ScreenPorch', 'PoolArea', 'MiscVal', \n",
    "            'MoSold', 'YrSold']\n",
    "features_and_outcome = features.append('SalePrice')\n",
    "\n",
    "# Subset training, training_100 and test data frames to just relevant variables:\n",
    "training = training[['SalePrice', 'MSSubClass', 'LotFrontage', 'LotArea', 'OverallQual', 'OverallCond', \n",
    "            'YearBuilt', 'YearRemodAdd', 'MasVnrArea', 'BsmtFinSF1', 'BsmtFinSF2', \n",
    "            'BsmtUnfSF', 'TotalBsmtSF', '1stFlrSF', '2ndFlrSF', 'LowQualFinSF', \n",
    "            'GrLivArea', 'BsmtFullBath', 'BsmtHalfBath', 'FullBath', 'HalfBath', \n",
    "            'BedroomAbvGr', 'KitchenAbvGr', 'TotRmsAbvGrd', 'Fireplaces', \n",
    "            'GarageYrBlt', 'GarageCars', 'GarageArea', 'WoodDeckSF', 'OpenPorchSF', \n",
    "            'EnclosedPorch', '3SsnPorch', 'ScreenPorch', 'PoolArea', 'MiscVal', \n",
    "            'MoSold', 'YrSold']]\n",
    "\n",
    "test = test[['MSSubClass', 'LotFrontage', 'LotArea', 'OverallQual', 'OverallCond', \n",
    "            'YearBuilt', 'YearRemodAdd', 'MasVnrArea', 'BsmtFinSF1', 'BsmtFinSF2', \n",
    "            'BsmtUnfSF', 'TotalBsmtSF', '1stFlrSF', '2ndFlrSF', 'LowQualFinSF', \n",
    "            'GrLivArea', 'BsmtFullBath', 'BsmtHalfBath', 'FullBath', 'HalfBath', \n",
    "            'BedroomAbvGr', 'KitchenAbvGr', 'TotRmsAbvGrd', 'Fireplaces', \n",
    "            'GarageYrBlt', 'GarageCars', 'GarageArea', 'WoodDeckSF', 'OpenPorchSF', \n",
    "            'EnclosedPorch', '3SsnPorch', 'ScreenPorch', 'PoolArea', 'MiscVal', \n",
    "            'MoSold', 'YrSold']]"
   ]
  },
  {
   "cell_type": "code",
   "execution_count": 4,
   "id": "35eb9135",
   "metadata": {},
   "outputs": [],
   "source": [
    "# Fill in missing values for predictor variables with mean value\n",
    "training = training.fillna(training.mean())\n",
    "test = test.fillna(test.mean())"
   ]
  },
  {
   "cell_type": "markdown",
   "id": "ec0acfd9",
   "metadata": {},
   "source": [
    "# Phase 1 MVP: Random Forests Model\n",
    "\n",
    "1. Fit a Random Forests model\n",
    "    1. Outcome Variable: Using in $\\log(SalePrice + 1)$ space. **See class notes from Lec 12.1 on Mon 4/15** on how to manage log transformations vs RMSLE vs RMSE\n",
    "    1. Features: Since we aren't comparing fitted slopes $\\widehat{\\beta}$ for each feature, no need to rescale the features\n",
    "    1. Hyperparameters\n",
    "        1. In your forest, use 1000 CART models, which in turn are fit to 1000 bootstrap resampling with replacement versions of the original training data.\n",
    "        1. Complexity hyperparameter: at each internal node of a particular CART tree 6 features are randomly sampled from the 36 total features to split on. \n",
    "1. Submit to Kaggle and show a screenshot of your score"
   ]
  },
  {
   "cell_type": "code",
   "execution_count": 5,
   "id": "7843f23e",
   "metadata": {},
   "outputs": [],
   "source": [
    "# Create variables for model fitting\n",
    "# Define y_train, X_train, X_test\n",
    "y_train = training[\"SalePrice\"].values\n",
    "X_train = training.drop(['SalePrice'], axis=1).values\n",
    "X_test = test.values\n",
    "\n",
    "# Fit Random Forests model with appropriate hyperparameters\n",
    "rf_model = RandomForestRegressor(n_estimators = 1000, bootstrap = True, max_features = 6)\n",
    "rf_model.fit(X_train, np.log1p(y_train))\n",
    "submission['SalePrice'] = np.expm1(rf_model.predict(X_test))\n",
    "\n",
    "submission\n",
    "\n",
    "# Submit to Kaggle\n",
    "submission.to_csv(\"data/submission_random_forest.csv\")"
   ]
  },
  {
   "cell_type": "markdown",
   "id": "0138b3c6",
   "metadata": {},
   "source": [
    "**Screenshot of score**\n",
    "\n",
    "![Screenshot of Kaggle score](images/random_forest_score.png)"
   ]
  },
  {
   "cell_type": "markdown",
   "id": "8da8877d",
   "metadata": {},
   "source": [
    "# Phase 2: Optimal Hyperparameter\n",
    "\n",
    "**TODO:** \n",
    "1. Search over all possible values of the complexity hyperparameter of the number of features to split on at each internal node. Once again, use 5000 CART trees in your forest.\n",
    "1. Identify the optimal value. Recall by \"optimal\" we meet the value of the complexity hyperparameter that yields the best estimate of the RMSLE on new, unseen data, such as the test data on Kaggle.\n",
    "1. Make a submission to Kaggle using this optimal value.  \n",
    "1. Take a screenshot\n",
    "\n",
    "\n",
    "**Hint:** There are *many* ways to do this, all of which were covered in DataCamp.\n",
    "\n",
    "**Questions:**\n",
    "\n",
    "1. What is the optimal value of the complexity hyperparamter?\n",
    "1. Approximately how long did this code take to run?\n",
    "1. Relatedly, what influences the Big-O of the run-time of this algorithm?\n",
    "\n",
    "**Answers:**\n",
    "\n",
    "1. The optimal value of the complexity hyperparameter is 13\n",
    "1. This code takes 9:46 (running from max_features 10 to 20) to run\n",
    "1. The number of trees in my forest and number of features that are randomly sampled from the total features to split on influence the Big-O of the run-time of this algorithm"
   ]
  },
  {
   "cell_type": "code",
   "execution_count": 36,
   "id": "53a0e69c",
   "metadata": {},
   "outputs": [
    {
     "name": "stdout",
     "output_type": "stream",
     "text": [
      "Best number of features: 13\n",
      "-0.14463704978213268\n"
     ]
    }
   ],
   "source": [
    "# I used 1000 CART trees in my forest\n",
    "# I used a new technique due to long run time\n",
    "# I separated the number of feature values into intervals of 10 and found the one with the lowest RMSLE among the top 4\n",
    "# I took the negative of the rmsle so GridSearchCV would return the best or lowest score\n",
    "\n",
    "from sklearn.metrics import mean_squared_log_error\n",
    "\n",
    "# Identify optimal value of complexity hyperparameter\n",
    "# Define RMSLE as a custom scorer\n",
    "def rmsle_scorer(y_true, y_pred):\n",
    "   #return np.sqrt(mean_squared_log_error(y_true, y_pred))\n",
    "    return -mean_squared_log_error(y_true, y_pred, squared=False)\n",
    "\n",
    "rf_model2 = RandomForestRegressor(n_estimators=1000, bootstrap=True)\n",
    "\n",
    "# Create the parameter grid for GridSearchCV\n",
    "param_grid = {'max_features': list(range(10, 21))}\n",
    "\n",
    "# Create the GridSearchCV object with custom scorer\n",
    "grid_search = GridSearchCV(estimator = rf_model2, param_grid = param_grid, scoring = make_scorer(rmsle_scorer))\n",
    "\n",
    "# Assuming 'X_train' and 'y_train' are your training features and target, respectively\n",
    "# Replace 'X_train' and 'y_train' with your actual training data\n",
    "grid_search.fit(X_train, y_train)\n",
    "\n",
    "# Get the best value of lambda (alpha) and the corresponding RMSLE\n",
    "best_n_features = grid_search.best_params_['max_features']\n",
    "best_rmsle = grid_search.best_score_\n",
    "\n",
    "print(\"Best number of features:\", best_n_features)\n",
    "print(best_rmsle)"
   ]
  },
  {
   "cell_type": "code",
   "execution_count": 42,
   "id": "c71bed46",
   "metadata": {},
   "outputs": [],
   "source": [
    "# Fit Random Forests model with optimal complexity hyperparameter\n",
    "rf_model_optimal = RandomForestRegressor(n_estimators = 1000, bootstrap = True, max_features = 13)\n",
    "rf_model_optimal.fit(X_train, np.log1p(y_train))\n",
    "submission['SalePrice'] = np.expm1(rf_model_optimal.predict(X_test))\n",
    "\n",
    "submission\n",
    "\n",
    "# Submit to Kaggle\n",
    "submission.to_csv(\"data/submission_random_forest_optimal.csv\")"
   ]
  },
  {
   "cell_type": "markdown",
   "id": "5b3404ae",
   "metadata": {},
   "source": [
    "**Screenshot of score**\n",
    "\n",
    "![Screenshot of Kaggle score](images/random_forest_optimal.png)"
   ]
  },
  {
   "cell_type": "markdown",
   "id": "a9bb2ad4",
   "metadata": {},
   "source": [
    "# Phase 3: Visualize cross-validation results\n",
    "\n",
    "Create a visualization showing the relationship between the estimated RMSLE (on the y-axis) for all possible values of the complexity hyperparamter (on the x-axis), much like the orange curve in the [\"What is ML?\" slide 27](https://moodle.smith.edu/pluginfile.php/1672342/mod_resource/content/1/what_is_ML.pdf#page=27) from Lec 2.1\n",
    "\n",
    "**Questions:**\n",
    "\n",
    "1. Based on the graph, what is your estimated RMSLE for the optimal value of the complexity hyperparameter from the previous section? Was this a good estimate?\n",
    "1. Do smaller values of the complexity hyperparamter yield simpler or more complex models? Justify your answer in one sentence. \n",
    "1. Recall that cross-validation only yields an estimate of the RMSLE for new unseen data and hence is subject to sampling variation. Given this fact, what are some other values of the complexity hyperparameter you should consider? Justify your answer.\n",
    "\n",
    "\n",
    "**Answers:**\n",
    "\n",
    "1. Based on the graph, my estimated RMSLE for the optimal value of the complexity hyperparameters from the previous section is 0.14464. This is a good estimate since my Kaggle score was 0.14343\n",
    "1. Smaller values of the complexity hyperparameter yield simpler models by reducing model complexity and improving interpretability by reducing the number of features considered for each split\n",
    "1. I should consider values both smaller and larger than my optimal complexity hyperparameter to account for potential variations in the data. For example, my optimal complexity hyperparameter was 13 features, so I should try fitting models in the neighborhood of it, such as 10-20 features. By examining a larger range of values, it gives a more accurate assessment on sampling variation."
   ]
  },
  {
   "cell_type": "code",
   "execution_count": 44,
   "id": "baa79eb5",
   "metadata": {},
   "outputs": [
    {
     "data": {
      "image/png": "[encoded data removed]",
      "text/plain": [
       "<Figure size 640x480 with 1 Axes>"
      ]
     },
     "metadata": {},
     "output_type": "display_data"
    }
   ],
   "source": [
    "hyperparameters = grid_search.cv_results_['param_max_features']\n",
    "rmsle_scores = -grid_search.cv_results_['mean_test_score']\n",
    "\n",
    "plt.plot(hyperparameters, rmsle_scores, marker='o', color='orange')\n",
    "plt.xlabel('Max Features')\n",
    "plt.ylabel('RMSLE')\n",
    "plt.title('Relationship between Max Features and RMSLE')\n",
    "plt.grid(True)\n",
    "plt.show()"
   ]
  }
 ],
 "metadata": {
  "colab": {
   "include_colab_link": true,
   "provenance": []
  },
  "kernelspec": {
   "display_name": "Python 3 (ipykernel)",
   "language": "python",
   "name": "python3"
  },
  "language_info": {
   "codemirror_mode": {
    "name": "ipython",
    "version": 3
   },
   "file_extension": ".py",
   "mimetype": "text/x-python",
   "name": "python",
   "nbconvert_exporter": "python",
   "pygments_lexer": "ipython3",
   "version": "3.11.4"
  }
 },
 "nbformat": 4,
 "nbformat_minor": 5
}
